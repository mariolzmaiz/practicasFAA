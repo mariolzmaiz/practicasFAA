{
 "cells": [
  {
   "cell_type": "markdown",
   "metadata": {},
   "source": [
    "# Práctica 3"
   ]
  },
  {
   "cell_type": "markdown",
   "metadata": {},
   "source": [
    "## Apartado 1: detalles sobre la implementación."
   ]
  },
  {
   "cell_type": "markdown",
   "metadata": {},
   "source": [
    "### a) Generación de la población inicial: "
   ]
  },
  {
   "cell_type": "markdown",
   "metadata": {},
   "source": [
    "Nuestro método que genera una población aleatoria creará listas de 1s y 0s dada la longitud que tenga cada atributo del dataset. Previamente creamos un diccionario y una matriz con los datos en formato OneHot en el fichero Datos.py. La población será un conjunto de individuos, que a la vez, contendrá conjuntos de reglas (entre 6 y 10 nos ha parecido un buen balance de rendimiento y predicción final). Hemos forzado que la clase esté codificada en OneHot, para que se puedan seleccionar clases válidas. "
   ]
  },
  {
   "cell_type": "markdown",
   "metadata": {},
   "source": [
    "### b) Mecanismo de cruce implementado"
   ]
  },
  {
   "cell_type": "markdown",
   "metadata": {},
   "source": [
    "El mecanismo de cruce utilizado ha sido cruce en un punto. Para esto, seleccionamos de forma aleatoria la posición final de una regla (del individuo con el menor número de reglas entre los dos que se vayan a cruzar) y a partir de dicho punto, intercambiamos las reglas restantes con el otro individuo. Utilizamos el algoritmo de la ruleta; es decir, cruzaremos con mayor probabilidad los individuos con mayor fitness."
   ]
  },
  {
   "cell_type": "markdown",
   "metadata": {},
   "source": [
    "### c) Mecanismo de mutación implementado"
   ]
  },
  {
   "cell_type": "markdown",
   "metadata": {},
   "source": [
    "Para la mutación, seleccionamos de forma aleatoria una regla del individuo y de forma aleatoria también, cambiamos uno de los bits de esta regla. Para la selección del individuo a mutar, utilizamos el algoritmo de la ruleta; es decir, mutaremos con mayor probabilidad los individuos con menor fitness."
   ]
  },
  {
   "cell_type": "markdown",
   "metadata": {},
   "source": [
    "### d) Mecanismo de clasificación implementado"
   ]
  },
  {
   "cell_type": "markdown",
   "metadata": {},
   "source": [
    "El mecanismo de clasificación es muy similar al utilizado para generar el fitness medio de la población: seleccionamos cada individuo de la población ya evolucionada y comparamos las clases de las reglas activadas con las clases de los datos para test y obtenemos la proporción de aciertos. "
   ]
  },
  {
   "cell_type": "markdown",
   "metadata": {},
   "source": [
    "## Apartado 2: Resultados de la clasificación"
   ]
  },
  {
   "cell_type": "code",
   "execution_count": 1,
   "metadata": {},
   "outputs": [],
   "source": [
    "import Datos\n",
    "import EstrategiaParticionado\n",
    "import Genetico"
   ]
  },
  {
   "cell_type": "markdown",
   "metadata": {},
   "source": [
    "### 1: tic-tac-toe.data"
   ]
  },
  {
   "cell_type": "markdown",
   "metadata": {},
   "source": [
    "#### Tamaño de población: 50 || Número de épocas (generaciones): 100"
   ]
  },
  {
   "cell_type": "code",
   "execution_count": 18,
   "metadata": {},
   "outputs": [
    {
     "name": "stdout",
     "output_type": "stream",
     "text": [
      "Media Aciertos:  1.0\n",
      "Mejor Individuo:  [[[0, 1, 1], [0, 1, 1], [0, 0, 1], [1, 1, 0], [1, 0, 0], [0, 0, 1], [1, 1, 0], [0, 1, 0], [1, 0, 1], [0, 1]], [[0, 0, 0], [0, 0, 1], [0, 0, 1], [0, 1, 0], [1, 0, 1], [1, 0, 0], [1, 1, 1], [0, 1, 0], [1, 0, 1], [1, 0]], [[0, 0, 1], [1, 0, 0], [1, 0, 0], [1, 1, 1], [1, 1, 1], [0, 0, 0], [1, 1, 1], [0, 1, 1], [0, 0, 0], [0, 1]], [[1, 0, 0], [0, 0, 1], [0, 0, 0], [1, 1, 1], [0, 1, 1], [1, 0, 0], [1, 0, 0], [0, 0, 0], [0, 0, 1], [0, 1]], [[0, 0, 0], [0, 1, 1], [0, 1, 1], [0, 0, 1], [0, 1, 0], [0, 0, 0], [1, 0, 1], [1, 1, 0], [0, 1, 0], [1, 0]], [[0, 1, 0], [0, 0, 0], [0, 0, 0], [0, 1, 0], [1, 0, 1], [0, 1, 1], [1, 1, 1], [0, 0, 0], [1, 1, 1], [0, 1]], [[0, 1, 0], [0, 1, 0], [0, 1, 0], [0, 0, 1], [1, 1, 0], [1, 0, 1], [1, 0, 1], [0, 1, 1], [0, 0, 0], [1, 0]]]\n",
      "Número de reglas:  7\n"
     ]
    }
   ],
   "source": [
    "genetico = Genetico.AlgoritmoGenetico(probabilidad_cruce = 0.5, probabilidad_mutacion = 0.01, porcentaje_elitismo = 0.05, tamano_poblacion = 50, max_generaciones = 100, max_fitness = 0.8, max_reglas = 9)\n",
    "dataset = Datos.Datos('tic-tac-toe.data', esGenetico = True)\n",
    "validacionSimple = EstrategiaParticionado.ValidacionSimple(0.6, 1)\n",
    "particiones = validacionSimple.creaParticiones(dataset.datos)\n",
    "mean = genetico.validacion(validacionSimple, dataset, seed=None)\n",
    "print(\"Media Aciertos: \", mean)\n",
    "print(\"Mejor Individuo: \", genetico.mejorIndividuo)\n",
    "print(\"Número de reglas: \", len(genetico.mejorIndividuo))"
   ]
  },
  {
   "cell_type": "markdown",
   "metadata": {},
   "source": [
    "#### Tamaño de población: 50 || Número de épocas (generaciones): 200"
   ]
  },
  {
   "cell_type": "code",
   "execution_count": 19,
   "metadata": {},
   "outputs": [
    {
     "name": "stdout",
     "output_type": "stream",
     "text": [
      "Media Aciertos:  0.25\n",
      "Mejor Individuo:  [[[0, 1, 0], [0, 0, 1], [0, 1, 1], [1, 0, 0], [0, 1, 0], [0, 0, 0], [1, 0, 1], [0, 1, 1], [1, 0, 1], [1, 0]], [[1, 0, 0], [0, 0, 1], [0, 0, 0], [1, 1, 0], [1, 0, 0], [1, 0, 1], [0, 0, 0], [0, 0, 1], [1, 0, 1], [1, 0]], [[0, 0, 0], [0, 0, 1], [1, 0, 1], [0, 0, 1], [1, 0, 0], [1, 0, 0], [1, 0, 0], [0, 0, 1], [0, 1, 0], [1, 0]], [[0, 1, 1], [1, 0, 1], [1, 0, 1], [1, 0, 0], [0, 1, 0], [0, 1, 1], [0, 1, 1], [1, 0, 0], [0, 0, 1], [0, 1]], [[1, 0, 0], [1, 0, 1], [0, 1, 0], [0, 0, 0], [1, 0, 0], [1, 0, 0], [0, 0, 1], [0, 0, 1], [1, 0, 0], [0, 1]], [[1, 0, 0], [1, 1, 0], [0, 0, 1], [0, 1, 1], [1, 0, 0], [1, 1, 0], [1, 0, 0], [1, 1, 0], [1, 0, 0], [0, 1]], [[1, 1, 1], [1, 1, 0], [0, 1, 0], [1, 0, 1], [1, 1, 0], [0, 1, 0], [1, 0, 1], [0, 0, 1], [0, 0, 0], [0, 1]], [[1, 0, 0], [0, 1, 1], [0, 0, 1], [0, 1, 1], [1, 0, 0], [0, 0, 1], [1, 0, 1], [1, 0, 1], [0, 1, 1], [0, 1]], [[1, 0, 0], [0, 0, 0], [1, 1, 1], [0, 1, 1], [1, 0, 0], [1, 1, 0], [1, 0, 1], [0, 1, 0], [0, 1, 1], [1, 0]]]\n",
      "Número de reglas:  9\n"
     ]
    }
   ],
   "source": [
    "genetico = Genetico.AlgoritmoGenetico(probabilidad_cruce = 0.5, probabilidad_mutacion = 0.01, porcentaje_elitismo = 0.05, tamano_poblacion = 50, max_generaciones = 200, max_fitness = 0.8, max_reglas = 9)\n",
    "dataset = Datos.Datos('tic-tac-toe.data', esGenetico = True)\n",
    "validacionSimple = EstrategiaParticionado.ValidacionSimple(0.6, 1)\n",
    "particiones = validacionSimple.creaParticiones(dataset.datos)\n",
    "mean = genetico.validacion(validacionSimple, dataset, seed=None)\n",
    "print(\"Media Aciertos: \", mean)\n",
    "print(\"Mejor Individuo: \", genetico.mejorIndividuo)\n",
    "print(\"Número de reglas: \", len(genetico.mejorIndividuo))"
   ]
  },
  {
   "cell_type": "markdown",
   "metadata": {},
   "source": [
    "#### Tamaño de población: 150 || Número de épocas (generaciones): 100"
   ]
  },
  {
   "cell_type": "code",
   "execution_count": 20,
   "metadata": {},
   "outputs": [
    {
     "name": "stdout",
     "output_type": "stream",
     "text": [
      "Media Aciertos:  1.0\n",
      "Mejor Individuo:  [[[1, 1, 1], [1, 1, 1], [0, 1, 0], [0, 0, 0], [0, 0, 1], [0, 0, 1], [1, 0, 0], [0, 1, 0], [0, 1, 0], [1, 0]], [[1, 1, 0], [1, 0, 0], [1, 1, 0], [0, 0, 1], [1, 1, 0], [1, 0, 0], [0, 0, 0], [0, 0, 1], [1, 0, 1], [1, 0]], [[0, 1, 1], [1, 1, 0], [0, 1, 0], [1, 0, 0], [0, 1, 0], [1, 0, 0], [0, 1, 0], [0, 1, 1], [1, 0, 1], [1, 0]], [[1, 1, 1], [1, 1, 1], [1, 1, 0], [1, 1, 0], [0, 1, 1], [1, 0, 0], [0, 0, 0], [1, 1, 1], [1, 1, 1], [0, 1]], [[1, 1, 1], [1, 0, 0], [1, 1, 1], [1, 1, 1], [0, 0, 0], [1, 0, 1], [0, 0, 0], [1, 1, 0], [0, 1, 0], [1, 0]], [[0, 1, 0], [1, 0, 0], [1, 0, 0], [0, 1, 0], [1, 1, 0], [1, 0, 1], [1, 1, 1], [1, 1, 1], [0, 1, 0], [1, 0]], [[0, 0, 1], [1, 0, 0], [1, 1, 0], [0, 0, 1], [1, 0, 1], [0, 1, 0], [1, 1, 1], [1, 1, 0], [1, 0, 0], [0, 1]], [[1, 1, 0], [1, 1, 0], [0, 1, 1], [0, 1, 0], [0, 0, 1], [0, 0, 0], [0, 0, 0], [1, 1, 0], [1, 0, 1], [1, 0]], [[0, 0, 1], [1, 0, 0], [0, 0, 0], [0, 1, 0], [1, 0, 0], [0, 1, 1], [1, 0, 0], [1, 0, 0], [0, 1, 0], [0, 1]]]\n",
      "Número de reglas:  9\n"
     ]
    }
   ],
   "source": [
    "genetico = Genetico.AlgoritmoGenetico(probabilidad_cruce = 0.5, probabilidad_mutacion = 0.01, porcentaje_elitismo = 0.05, tamano_poblacion = 150, max_generaciones = 100, max_fitness = 0.8, max_reglas = 9)\n",
    "dataset = Datos.Datos('tic-tac-toe.data', esGenetico = True)\n",
    "validacionSimple = EstrategiaParticionado.ValidacionSimple(0.6, 1)\n",
    "particiones = validacionSimple.creaParticiones(dataset.datos)\n",
    "mean = genetico.validacion(validacionSimple, dataset, seed=None)\n",
    "print(\"Media Aciertos: \", mean)\n",
    "print(\"Mejor Individuo: \", genetico.mejorIndividuo)\n",
    "print(\"Número de reglas: \", len(genetico.mejorIndividuo))"
   ]
  },
  {
   "cell_type": "markdown",
   "metadata": {},
   "source": [
    "#### Tamaño de población: 150 || Número de épocas (generaciones): 200"
   ]
  },
  {
   "cell_type": "code",
   "execution_count": 21,
   "metadata": {},
   "outputs": [
    {
     "name": "stdout",
     "output_type": "stream",
     "text": [
      "Media Aciertos:  0.0\n",
      "Mejor Individuo:  [[[1, 1, 0], [0, 1, 0], [0, 0, 1], [0, 0, 0], [0, 0, 1], [1, 0, 0], [1, 1, 1], [0, 1, 1], [1, 0, 0], [0, 1]], [[0, 1, 1], [0, 0, 1], [0, 0, 1], [0, 0, 0], [1, 0, 0], [1, 0, 0], [0, 0, 1], [0, 1, 1], [1, 0, 0], [1, 0]], [[1, 0, 0], [1, 1, 1], [1, 0, 0], [1, 1, 1], [0, 0, 0], [1, 1, 0], [0, 0, 1], [1, 1, 0], [0, 0, 0], [1, 0]], [[0, 0, 1], [1, 0, 0], [0, 1, 1], [1, 1, 0], [1, 1, 1], [0, 0, 1], [0, 0, 1], [1, 1, 1], [1, 0, 1], [0, 1]], [[1, 0, 1], [0, 1, 1], [0, 0, 0], [0, 1, 1], [1, 1, 0], [0, 0, 0], [0, 1, 1], [1, 0, 0], [1, 1, 0], [0, 1]], [[1, 0, 0], [0, 0, 0], [0, 0, 1], [1, 0, 0], [0, 0, 0], [0, 0, 0], [1, 1, 0], [0, 0, 1], [0, 0, 1], [0, 1]], [[1, 1, 0], [1, 0, 0], [1, 0, 1], [0, 1, 0], [0, 1, 1], [1, 0, 1], [1, 0, 0], [1, 1, 0], [1, 1, 1], [0, 1]], [[1, 0, 0], [1, 1, 0], [1, 1, 0], [1, 1, 0], [1, 1, 1], [1, 1, 1], [0, 1, 0], [0, 1, 0], [1, 0, 1], [0, 1]]]\n",
      "Número de reglas:  8\n"
     ]
    }
   ],
   "source": [
    "genetico = Genetico.AlgoritmoGenetico(probabilidad_cruce = 0.5, probabilidad_mutacion = 0.01, porcentaje_elitismo = 0.05, tamano_poblacion = 150, max_generaciones = 200, max_fitness = 0.8, max_reglas = 9)\n",
    "dataset = Datos.Datos('tic-tac-toe.data', esGenetico = True)\n",
    "validacionSimple = EstrategiaParticionado.ValidacionSimple(0.6, 1)\n",
    "particiones = validacionSimple.creaParticiones(dataset.datos)\n",
    "mean = genetico.validacion(validacionSimple, dataset, seed=None)\n",
    "print(\"Media Aciertos: \", mean)\n",
    "print(\"Mejor Individuo: \", genetico.mejorIndividuo)\n",
    "print(\"Número de reglas: \", len(genetico.mejorIndividuo))"
   ]
  },
  {
   "cell_type": "markdown",
   "metadata": {},
   "source": [
    "### 2: titanic.data"
   ]
  },
  {
   "cell_type": "markdown",
   "metadata": {},
   "source": [
    "#### Tamaño de población: 50 || Número de épocas (generaciones): 100"
   ]
  },
  {
   "cell_type": "code",
   "execution_count": 22,
   "metadata": {},
   "outputs": [
    {
     "name": "stdout",
     "output_type": "stream",
     "text": [
      "Media Aciertos:  0.9442622950819672\n",
      "Mejor Individuo:  [[[0, 1, 1], [1, 1], [0, 1, 1, 1, 1, 1, 1, 0, 1, 0, 1, 1, 0, 1, 1, 0], [1, 1]], [[0, 1, 0], [1, 0], [0, 0, 1, 1, 0, 0, 0, 1, 1, 1, 0, 0, 0, 0, 0, 1], [0, 1]], [[0, 0, 1], [0, 1], [0, 0, 1, 0, 1, 1, 1, 0, 1, 0, 1, 1, 0, 1, 0, 1], [1, 1]]]\n",
      "Número de reglas:  3\n"
     ]
    }
   ],
   "source": [
    "genetico = Genetico.AlgoritmoGenetico(probabilidad_cruce = 0.5, probabilidad_mutacion = 0.01, porcentaje_elitismo = 0.05, tamano_poblacion = 50, max_generaciones = 100, max_fitness = 0.8, max_reglas = 9)\n",
    "dataset = Datos.Datos('titanic.data', esGenetico = True)\n",
    "validacionSimple = EstrategiaParticionado.ValidacionSimple(0.6, 1)\n",
    "particiones = validacionSimple.creaParticiones(dataset.datos)\n",
    "mean = genetico.validacion(validacionSimple, dataset, seed=None)\n",
    "print(\"Media Aciertos: \", mean)\n",
    "print(\"Mejor Individuo: \", genetico.mejorIndividuo)\n",
    "print(\"Número de reglas: \", len(genetico.mejorIndividuo))"
   ]
  },
  {
   "cell_type": "markdown",
   "metadata": {},
   "source": [
    "#### Tamaño de población: 50 || Número de épocas (generaciones): 200"
   ]
  },
  {
   "cell_type": "code",
   "execution_count": 23,
   "metadata": {},
   "outputs": [
    {
     "name": "stdout",
     "output_type": "stream",
     "text": [
      "Media Aciertos:  0.8513119533527697\n",
      "Mejor Individuo:  [[[1, 1, 1], [0, 0], [0, 0, 0, 1, 1, 1, 0, 0, 1, 1, 1, 0, 1, 0, 1, 1], [0, 1]], [[0, 0, 0], [0, 1], [1, 0, 0, 0, 0, 0, 0, 0, 0, 0, 0, 0, 1, 1, 1, 1], [1, 0]], [[0, 1, 1], [1, 1], [1, 0, 0, 1, 1, 0, 0, 0, 0, 0, 1, 1, 0, 0, 1, 1], [1, 1]], [[0, 1, 1], [1, 1], [0, 0, 0, 0, 1, 1, 1, 1, 1, 0, 1, 0, 1, 1, 0, 1], [1, 1]], [[0, 1, 1], [0, 0], [0, 1, 0, 0, 1, 1, 1, 1, 1, 0, 0, 1, 1, 0, 0, 1], [1, 0]]]\n",
      "Número de reglas:  5\n"
     ]
    }
   ],
   "source": [
    "genetico = Genetico.AlgoritmoGenetico(probabilidad_cruce = 0.5, probabilidad_mutacion = 0.01, porcentaje_elitismo = 0.05, tamano_poblacion = 50, max_generaciones = 200, max_fitness = 0.8, max_reglas = 9)\n",
    "dataset = Datos.Datos('titanic.data', esGenetico = True)\n",
    "validacionSimple = EstrategiaParticionado.ValidacionSimple(0.6, 1)\n",
    "particiones = validacionSimple.creaParticiones(dataset.datos)\n",
    "mean = genetico.validacion(validacionSimple, dataset, seed=None)\n",
    "print(\"Media Aciertos: \", mean)\n",
    "print(\"Mejor Individuo: \", genetico.mejorIndividuo)\n",
    "print(\"Número de reglas: \", len(genetico.mejorIndividuo))"
   ]
  },
  {
   "cell_type": "markdown",
   "metadata": {},
   "source": [
    "#### Tamaño de población: 150 || Número de épocas (generaciones): 100"
   ]
  },
  {
   "cell_type": "code",
   "execution_count": 24,
   "metadata": {},
   "outputs": [
    {
     "name": "stdout",
     "output_type": "stream",
     "text": [
      "Media Aciertos:  0.8\n",
      "Mejor Individuo:  [[[1, 0, 1], [1, 0], [1, 1, 1, 0, 0, 1, 0, 0, 1, 0, 0, 0, 0, 1, 0, 1], [1, 1]], [[1, 1, 1], [1, 0], [1, 0, 1, 0, 0, 0, 1, 0, 1, 0, 1, 0, 1, 1, 0, 1], [1, 1]], [[0, 0, 0], [0, 1], [1, 0, 0, 1, 1, 0, 0, 1, 0, 0, 1, 1, 1, 0, 0, 0], [0, 1]], [[0, 0, 1], [0, 0], [1, 1, 0, 0, 0, 1, 1, 0, 1, 1, 1, 0, 0, 0, 0, 0], [1, 0]]]\n",
      "Número de reglas:  4\n"
     ]
    }
   ],
   "source": [
    "genetico = Genetico.AlgoritmoGenetico(probabilidad_cruce = 0.5, probabilidad_mutacion = 0.01, porcentaje_elitismo = 0.05, tamano_poblacion = 150, max_generaciones = 100, max_fitness = 0.8, max_reglas = 9)\n",
    "dataset = Datos.Datos('titanic.data', esGenetico = True)\n",
    "validacionSimple = EstrategiaParticionado.ValidacionSimple(0.6, 1)\n",
    "particiones = validacionSimple.creaParticiones(dataset.datos)\n",
    "mean = genetico.validacion(validacionSimple, dataset, seed=None)\n",
    "print(\"Media Aciertos: \", mean)\n",
    "print(\"Mejor Individuo: \", genetico.mejorIndividuo)\n",
    "print(\"Número de reglas: \", len(genetico.mejorIndividuo))"
   ]
  },
  {
   "cell_type": "markdown",
   "metadata": {},
   "source": [
    "#### Tamaño de población: 150 || Número de épocas (generaciones): 200"
   ]
  },
  {
   "cell_type": "code",
   "execution_count": 25,
   "metadata": {},
   "outputs": [
    {
     "name": "stdout",
     "output_type": "stream",
     "text": [
      "Media Aciertos:  0.7681159420289855\n",
      "Mejor Individuo:  [[[0, 1, 0], [0, 0], [1, 0, 1, 1, 1, 0, 0, 0, 1, 1, 1, 1, 1, 1, 0, 1], [1, 0]], [[1, 1, 0], [1, 1], [1, 1, 1, 1, 0, 1, 0, 0, 0, 0, 0, 0, 0, 0, 0, 1], [1, 1]], [[0, 0, 0], [1, 1], [0, 0, 1, 1, 1, 0, 1, 0, 1, 1, 1, 0, 1, 0, 0, 1], [1, 0]]]\n",
      "Número de reglas:  3\n"
     ]
    }
   ],
   "source": [
    "genetico = Genetico.AlgoritmoGenetico(probabilidad_cruce = 0.5, probabilidad_mutacion = 0.01, porcentaje_elitismo = 0.05, tamano_poblacion = 150, max_generaciones = 200, max_fitness = 0.8, max_reglas = 9)\n",
    "dataset = Datos.Datos('titanic.data', esGenetico = True)\n",
    "validacionSimple = EstrategiaParticionado.ValidacionSimple(0.6, 1)\n",
    "particiones = validacionSimple.creaParticiones(dataset.datos)\n",
    "mean = genetico.validacion(validacionSimple, dataset, seed=None)\n",
    "print(\"Media Aciertos: \", mean)\n",
    "print(\"Mejor Individuo: \", genetico.mejorIndividuo)\n",
    "print(\"Número de reglas: \", len(genetico.mejorIndividuo))"
   ]
  },
  {
   "cell_type": "markdown",
   "metadata": {},
   "source": [
    "#### Prob Mutación: 5%"
   ]
  },
  {
   "cell_type": "code",
   "execution_count": 37,
   "metadata": {},
   "outputs": [
    {
     "name": "stdout",
     "output_type": "stream",
     "text": [
      "Media Aciertos:  0.875\n",
      "Mejor Individuo:  [[[1, 1, 1], [0, 0], [0, 1, 1, 0, 1, 1, 1, 1, 0, 1, 0, 1, 0, 1, 0, 1], [0, 1]], [[1, 0, 0], [0, 1], [1, 0, 1, 0, 0, 0, 1, 1, 1, 1, 0, 0, 0, 1, 0, 1], [0, 0]], [[1, 1, 1], [0, 1], [0, 1, 0, 1, 1, 0, 1, 0, 0, 0, 1, 0, 1, 0, 0, 1], [1, 1]], [[1, 1, 1], [0, 1], [0, 1, 0, 1, 1, 0, 0, 0, 1, 0, 1, 0, 0, 0, 0, 1], [1, 0]], [[1, 0, 0], [0, 1], [1, 1, 0, 0, 0, 1, 0, 1, 0, 1, 1, 0, 1, 1, 1, 1], [1, 1]], [[1, 0, 0], [0, 1], [0, 1, 0, 1, 1, 1, 1, 0, 1, 0, 1, 1, 1, 1, 0, 0], [1, 0]], [[0, 1, 1], [0, 1], [1, 1, 1, 0, 1, 1, 1, 0, 0, 0, 0, 0, 1, 0, 0, 0], [1, 1]], [[0, 1, 1], [1, 1], [1, 0, 1, 1, 1, 0, 0, 1, 0, 0, 1, 1, 1, 1, 0, 0], [1, 0]]]\n",
      "Número de reglas:  8\n"
     ]
    }
   ],
   "source": [
    "genetico = Genetico.AlgoritmoGenetico(probabilidad_cruce = 0.5, probabilidad_mutacion = 0.05, porcentaje_elitismo = 0.05, tamano_poblacion = 50, max_generaciones = 100, max_fitness = 0.8, max_reglas = 9)\n",
    "dataset = Datos.Datos('titanic.data', esGenetico = True)\n",
    "validacionSimple = EstrategiaParticionado.ValidacionSimple(0.6, 1)\n",
    "particiones = validacionSimple.creaParticiones(dataset.datos)\n",
    "mean = genetico.validacion(validacionSimple, dataset, seed=None)\n",
    "print(\"Media Aciertos: \", mean)\n",
    "print(\"Mejor Individuo: \", genetico.mejorIndividuo)\n",
    "print(\"Número de reglas: \", len(genetico.mejorIndividuo))"
   ]
  },
  {
   "cell_type": "markdown",
   "metadata": {},
   "source": [
    "#### Prob Mutación: 10%"
   ]
  },
  {
   "cell_type": "code",
   "execution_count": 36,
   "metadata": {},
   "outputs": [
    {
     "name": "stdout",
     "output_type": "stream",
     "text": [
      "Media Aciertos:  0.735632183908046\n",
      "Mejor Individuo:  [[[0, 1, 1], [0, 0], [0, 0, 1, 0, 1, 1, 0, 1, 1, 0, 0, 1, 1, 1, 0, 1], [1, 0]], [[1, 1, 1], [0, 0], [1, 0, 1, 1, 0, 0, 1, 0, 1, 1, 0, 1, 1, 1, 1, 1], [1, 0]], [[1, 1, 0], [1, 1], [0, 1, 0, 0, 0, 1, 0, 0, 0, 0, 0, 0, 0, 0, 1, 1], [1, 1]], [[1, 0, 1], [0, 0], [0, 1, 1, 1, 0, 0, 0, 1, 1, 1, 0, 0, 0, 0, 1, 0], [1, 0]]]\n",
      "Número de reglas:  4\n"
     ]
    }
   ],
   "source": [
    "genetico = Genetico.AlgoritmoGenetico(probabilidad_cruce = 0.5, probabilidad_mutacion = 0.1, porcentaje_elitismo = 0.05, tamano_poblacion = 50, max_generaciones = 100, max_fitness = 0.8, max_reglas = 9)\n",
    "dataset = Datos.Datos('titanic.data', esGenetico = True)\n",
    "validacionSimple = EstrategiaParticionado.ValidacionSimple(0.6, 1)\n",
    "particiones = validacionSimple.creaParticiones(dataset.datos)\n",
    "mean = genetico.validacion(validacionSimple, dataset, seed=None)\n",
    "print(\"Media Aciertos: \", mean)\n",
    "print(\"Mejor Individuo: \", genetico.mejorIndividuo)\n",
    "print(\"Número de reglas: \", len(genetico.mejorIndividuo))"
   ]
  },
  {
   "cell_type": "markdown",
   "metadata": {},
   "source": [
    "## Apartado 3: Análisis de resultados"
   ]
  },
  {
   "cell_type": "markdown",
   "metadata": {},
   "source": [
    "Los resultados obtenidos en tic-tac-toe son bastante dispares. Esto puede deberse al número de atributos ya que es muy probable que haya pocas reglas que consigan activarse. Entonces si se activan, tendrán o 1 acierto de 1 o 0 aciertos de 1. Por lo que los resultados no son precisos en la mayoría de ocasiones. \n",
    "Sin embargo, como se puede observar, los resultados con titanic.data son bastante mejores y precisos debido a que existe un menor número de atributos. Por lo tanto compararemos los resultados de las distintas ejecuciones con este dataset. \n",
    "La principal conclusión que podemos sacar es que al incrementar tanto la población como las épocas, los resultados empeoran de forma visible. Posiblemente se deba a que un exceso de cruces y mutaciones puedan acabar con los mejores individuos de la población, bajando así el porcentaje de acierto. Por tanto, la mejor combinación de individuos/combinaciones ha sido de 50/100. \n",
    "Para todas las ejecuciones, el número de reglas del mejor individuo está entre una tercera parte y la mitad del número máximo de reglas posibles.\n",
    "Haciendo pruebas extras cambiando el porcentaje de mutación, podemos observar que al aumentar ligeramente esta probabilidad, los resultados obtenidos son algo peores, aunque hay que tener en cuenta el factor de la aleatoriedad."
   ]
  },
  {
   "cell_type": "markdown",
   "metadata": {},
   "source": [
    "# Apartado 5: Evolución de forma gráfica"
   ]
  },
  {
   "cell_type": "markdown",
   "metadata": {},
   "source": [
    "## Gráficas: titanic.data"
   ]
  },
  {
   "cell_type": "code",
   "execution_count": 2,
   "metadata": {},
   "outputs": [
    {
     "data": {
      "image/png": "[encoded data removed]",
      "text/plain": [
       "<Figure size 432x288 with 1 Axes>"
      ]
     },
     "metadata": {
      "needs_background": "light"
     },
     "output_type": "display_data"
    },
    {
     "data": {
      "image/png": "[encoded data removed]",
      "text/plain": [
       "<Figure size 432x288 with 1 Axes>"
      ]
     },
     "metadata": {
      "needs_background": "light"
     },
     "output_type": "display_data"
    }
   ],
   "source": [
    "genetico = Genetico.AlgoritmoGenetico(probabilidad_cruce = 0.5, probabilidad_mutacion = 0.1, porcentaje_elitismo = 0.05, tamano_poblacion = 50, max_generaciones = 100, max_fitness = 0.8, max_reglas = 9, flagGrafica = True)\n",
    "dataset = Datos.Datos('titanic.data', esGenetico = True)\n",
    "validacionCruzada = EstrategiaParticionado.ValidacionSimple(0.6, 1)\n",
    "particiones = validacionCruzada.creaParticiones(dataset.datos)\n",
    "mean = genetico.validacion(validacionCruzada, dataset, seed=None)"
   ]
  },
  {
   "cell_type": "markdown",
   "metadata": {},
   "source": [
    "## Gráficas: tic-tac-toe.data"
   ]
  },
  {
   "cell_type": "code",
   "execution_count": 4,
   "metadata": {},
   "outputs": [
    {
     "data": {
      "image/png": "[encoded data removed]",
      "text/plain": [
       "<Figure size 432x288 with 1 Axes>"
      ]
     },
     "metadata": {
      "needs_background": "light"
     },
     "output_type": "display_data"
    },
    {
     "data": {
      "image/png": "[encoded data removed]",
      "text/plain": [
       "<Figure size 432x288 with 1 Axes>"
      ]
     },
     "metadata": {
      "needs_background": "light"
     },
     "output_type": "display_data"
    }
   ],
   "source": [
    "genetico = Genetico.AlgoritmoGenetico(probabilidad_cruce = 0.5, probabilidad_mutacion = 0.1, porcentaje_elitismo = 0.05, tamano_poblacion = 50, max_generaciones = 100, max_fitness = 0.8, max_reglas = 9, flagGrafica = True)\n",
    "dataset = Datos.Datos('tic-tac-toe.data', esGenetico = True)\n",
    "validacionCruzada = EstrategiaParticionado.ValidacionSimple(0.6, 1)\n",
    "particiones = validacionCruzada.creaParticiones(dataset.datos)\n",
    "mean = genetico.validacion(validacionCruzada, dataset, seed=None)"
   ]
  },
  {
   "cell_type": "markdown",
   "metadata": {},
   "source": [
    "## Conclusiones"
   ]
  },
  {
   "cell_type": "markdown",
   "metadata": {},
   "source": [
    "Para titanic-data, al principio se han conseguido muy buenos resultados para el mejor individuo, pero no se ha conseguido llegar al fitness objetivo. Por lo que ha hecho que la población siga evolucionando y esto ha llevado a que empeore en muchos casos. Finalmente el fitness medio ha aumentado y aunque el fitness del mejor individuo no ha llegado a ser tan alto como al principio del entrenamiento, si se ha llegado al fitness objetivo.\n",
    "\n",
    "Para tic-tac-toe.data, tenemos problemas similares a los comentados previamente. Es decir, el fitness del mejor individuo no es muy orientativo ya que le es muy \"fácil\" llegar al mejor fitness (1.0). Por otro lado, la obtención del fitness medio durante el entrenamiento nos muestra la mejora de una forma más visible y precisa."
   ]
  },
  {
   "cell_type": "code",
   "execution_count": null,
   "metadata": {},
   "outputs": [],
   "source": []
  }
 ],
 "metadata": {
  "kernelspec": {
   "display_name": "Python 3",
   "language": "python",
   "name": "python3"
  },
  "language_info": {
   "codemirror_mode": {
    "name": "ipython",
    "version": 3
   },
   "file_extension": ".py",
   "mimetype": "text/x-python",
   "name": "python",
   "nbconvert_exporter": "python",
   "pygments_lexer": "ipython3",
   "version": "3.8.3"
  }
 },
 "nbformat": 4,
 "nbformat_minor": 4
}
