{
 "cells": [
  {
   "cell_type": "code",
   "execution_count": 4,
   "metadata": {},
   "outputs": [
    {
     "name": "stdout",
     "output_type": "stream",
     "text": [
      "Datos: \n",
      "[['A11' '6' 'A34' ... 'A192' 'A201' '1']\n",
      " ['A12' '48' 'A32' ... 'A191' 'A201' '2']\n",
      " ['A14' '12' 'A34' ... 'A191' 'A201' '1']\n",
      " ...\n",
      " ['A14' '12' 'A32' ... 'A191' 'A201' '1']\n",
      " ['A11' '45' 'A32' ... 'A192' 'A201' '2']\n",
      " ['A12' '45' 'A34' ... 'A191' 'A201' '1']]\n",
      "\n",
      "\n",
      "Diccionario: \n",
      "{'A1': {'A11': 0, 'A12': 1, 'A13': 2, 'A14': 3}, 'A2': {}, 'A3': {'A30': 0, 'A31': 1, 'A32': 2, 'A33': 3, 'A34': 4}, 'A4': {'A40': 0, 'A41': 1, 'A410': 2, 'A42': 3, 'A43': 4, 'A44': 5, 'A45': 6, 'A46': 7, 'A48': 8, 'A49': 9}, 'A5': {}, 'A6': {'A61': 0, 'A62': 1, 'A63': 2, 'A64': 3, 'A65': 4}, 'A7': {'A71': 0, 'A72': 1, 'A73': 2, 'A74': 3, 'A75': 4}, 'A8': {}, 'A9': {'A91': 0, 'A92': 1, 'A93': 2, 'A94': 3}, 'A10': {'A101': 0, 'A102': 1, 'A103': 2}, 'A11': {}, 'A12': {'A121': 0, 'A122': 1, 'A123': 2, 'A124': 3}, 'A13': {}, 'A14': {'A141': 0, 'A142': 1, 'A143': 2}, 'A15': {'A151': 0, 'A152': 1, 'A153': 2}, 'A16': {}, 'A17': {'A171': 0, 'A172': 1, 'A173': 2, 'A174': 3}, 'A18': {}, 'A19': {'A191': 0, 'A192': 1}, 'A20': {'A201': 0, 'A202': 1}, 'Class': {}}\n"
     ]
    }
   ],
   "source": [
    "from DatosTemplate import Datos\n",
    "\n",
    "x = Datos(\"german.data\")\n",
    "#print(\"Nominal: \\n\") \n",
    "#print(x.nominalAtributos) Comentado porque ocupa mucho en la terminal\n",
    "print(\"Datos: \")\n",
    "print(x.datos)\n",
    "print(\"\\n\")\n",
    "print(\"Diccionario: \")\n",
    "print(x.diccionario)"
   ]
  },
  {
   "cell_type": "code",
   "execution_count": null,
   "metadata": {},
   "outputs": [],
   "source": []
  },
  {
   "cell_type": "code",
   "execution_count": null,
   "metadata": {},
   "outputs": [],
   "source": []
  }
 ],
 "metadata": {
  "kernelspec": {
   "display_name": "Python 3",
   "language": "python",
   "name": "python3"
  },
  "language_info": {
   "codemirror_mode": {
    "name": "ipython",
    "version": 3
   },
   "file_extension": ".py",
   "mimetype": "text/x-python",
   "name": "python",
   "nbconvert_exporter": "python",
   "pygments_lexer": "ipython3",
   "version": "3.7.5"
  }
 },
 "nbformat": 4,
 "nbformat_minor": 4
}
